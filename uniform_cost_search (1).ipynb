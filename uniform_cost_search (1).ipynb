{
 "cells": [
  {
   "cell_type": "code",
   "execution_count": 6,
   "id": "b3f4ccf5-f585-4114-9827-afe7c8e49833",
   "metadata": {},
   "outputs": [
    {
     "name": "stdout",
     "output_type": "stream",
     "text": [
      "Cost: 10, Path: [0, 3, 5, 6, 7]\n"
     ]
    }
   ],
   "source": [
    "from queue import PriorityQueue\n",
    "\n",
    "def uniform_cost_search(graph, start, goal):\n",
    "    visited = set()  # to keep track of visited nodes\n",
    "    queue = PriorityQueue()\n",
    "    queue.put((0, start, [start]))  # priority queue ordered by path cost\n",
    "\n",
    "    while not queue.empty():\n",
    "        (cost, node, path) = queue.get()\n",
    "\n",
    "        if node in visited:\n",
    "            continue\n",
    "\n",
    "        visited.add(node)\n",
    "\n",
    "        if node == goal:\n",
    "            return (cost, path)  # return the cost and path\n",
    "\n",
    "        for next_node, weight in graph.get(node, {}).items():\n",
    "            if next_node not in visited:\n",
    "                new_cost = cost + weight\n",
    "                new_path = path + [next_node]\n",
    "                queue.put((new_cost, next_node, new_path))\n",
    "\n",
    "    return (float(\"inf\"), [])  # if goal is not reachable\n",
    "\n",
    "# Example graph based on the assignment image\n",
    "graph = {\n",
    "    0: {1: 2, 3: 5, 16: 1},\n",
    "    1: {0: 2, 2: 1, 3: 8},\n",
    "    2: {1: 1, 4: 3},\n",
    "    3: {0: 5, 1: 8, 5: 2},\n",
    "    4: {2: 3, 5: 9, 6: 8},\n",
    "    5: {3: 2, 4: 9, 6: 2},\n",
    "    6: {4: 8, 5: 2, 7: 1},\n",
    "    7: {6: 1},  # Assuming node 7 has a direct connection to node 6\n",
    "    16: {0: 1, 17: 1},\n",
    "    17: {16: 1, 18: 1},\n",
    "    18: {17: 1}\n",
    "}\n",
    "\n",
    "# Call the function with the start node 0 and goal node 7\n",
    "cost, path = uniform_cost_search(graph, 0, 7)\n",
    "\n",
    "print(f\"Cost: {cost}, Path: {path}\")\n"
   ]
  },
  {
   "cell_type": "code",
   "execution_count": null,
   "id": "a87a5eaa-56e5-4c78-881e-0aa0f361bddd",
   "metadata": {},
   "outputs": [],
   "source": []
  },
  {
   "cell_type": "code",
   "execution_count": null,
   "id": "6e604273-6227-45ce-84b4-5d53ea8a701c",
   "metadata": {},
   "outputs": [],
   "source": []
  }
 ],
 "metadata": {
  "kernelspec": {
   "display_name": "Python 3 (ipykernel)",
   "language": "python",
   "name": "python3"
  },
  "language_info": {
   "codemirror_mode": {
    "name": "ipython",
    "version": 3
   },
   "file_extension": ".py",
   "mimetype": "text/x-python",
   "name": "python",
   "nbconvert_exporter": "python",
   "pygments_lexer": "ipython3",
   "version": "3.12.1"
  }
 },
 "nbformat": 4,
 "nbformat_minor": 5
}
